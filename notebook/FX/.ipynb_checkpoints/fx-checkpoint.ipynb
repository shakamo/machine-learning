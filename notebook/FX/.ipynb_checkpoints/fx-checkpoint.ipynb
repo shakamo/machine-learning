{
 "cells": [
  {
   "cell_type": "markdown",
   "metadata": {},
   "source": [
    "* 為替データのダウンロード"
   ]
  },
  {
   "cell_type": "code",
   "execution_count": 1,
   "metadata": {},
   "outputs": [],
   "source": [
    "# https://qiita.com/tdual/items/32d3918b4c8dd1f703e7\n",
    "# https://ymgsapo.com/2018/11/03/import-module-jupyter/\n",
    "import sys\n",
    "sys.path.append('../')\n",
    "import notebookutil as nbu\n",
    "sys.meta_path.append(nbu.NotebookFinder())"
   ]
  },
  {
   "cell_type": "code",
   "execution_count": 11,
   "metadata": {},
   "outputs": [
    {
     "name": "stdout",
     "output_type": "stream",
     "text": [
      "write() argument must be str, not bytes\n"
     ]
    }
   ],
   "source": [
    "import requests\n",
    " \n",
    "url = 'http://tools.fxdd.com/tools/M1Data/USDJPY.zip'\n",
    "filepath = 'USDJPY.zip'\n",
    "try:\n",
    "    r = requests.get(url)\n",
    "    with open(filepath, mode='w') as f:\n",
    "        f.write(r.content)\n",
    "        \n",
    "except Exception as err:\n",
    "    print(err)\n"
   ]
  },
  {
   "cell_type": "markdown",
   "metadata": {},
   "source": [
    "* ZIPファイルを解凍"
   ]
  },
  {
   "cell_type": "code",
   "execution_count": null,
   "metadata": {},
   "outputs": [],
   "source": [
    "import zipfile\n",
    " \n",
    "filepath = 'USDJPY.zip'\n",
    "historypaty = 'USDJPY.hst'\n",
    "try:\n",
    "    with zipfile.ZipFile(filepath, 'r') as inputFile:\n",
    "        inputFile.extractall(historypaty)\n",
    "except Exception as err:\n",
    "    print(err)\n"
   ]
  },
  {
   "cell_type": "code",
   "execution_count": null,
   "metadata": {},
   "outputs": [],
   "source": []
  }
 ],
 "metadata": {
  "kernelspec": {
   "display_name": "Python 3",
   "language": "python",
   "name": "python3"
  },
  "language_info": {
   "codemirror_mode": {
    "name": "ipython",
    "version": 3
   },
   "file_extension": ".py",
   "mimetype": "text/x-python",
   "name": "python",
   "nbconvert_exporter": "python",
   "pygments_lexer": "ipython3",
   "version": "3.6.6"
  }
 },
 "nbformat": 4,
 "nbformat_minor": 2
}
